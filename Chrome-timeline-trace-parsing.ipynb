{
 "cells": [
  {
   "cell_type": "markdown",
   "metadata": {
    "toc": true
   },
   "source": [
    "<h1>Table of Contents<span class=\"tocSkip\"></span></h1>\n",
    "<div class=\"toc\"><ul class=\"toc-item\"></ul></div>"
   ]
  },
  {
   "cell_type": "code",
   "execution_count": 35,
   "metadata": {},
   "outputs": [],
   "source": [
    "import json\n",
    "import glob"
   ]
  },
  {
   "cell_type": "code",
   "execution_count": 36,
   "metadata": {},
   "outputs": [
    {
     "data": {
      "text/plain": [
       "['profile_0.json',\n",
       " 'profile_1.json',\n",
       " 'profile_2.json',\n",
       " 'profile_3.json',\n",
       " 'profile_4.json']"
      ]
     },
     "execution_count": 36,
     "metadata": {},
     "output_type": "execute_result"
    }
   ],
   "source": [
    "jsons = glob.glob('profile*.json')\n",
    "jsons"
   ]
  },
  {
   "cell_type": "code",
   "execution_count": 48,
   "metadata": {},
   "outputs": [
    {
     "name": "stdout",
     "output_type": "stream",
     "text": [
      "profile_0.json\n",
      "scripting: 2156.682 ms\n",
      "rendering: 135.609 ms\n",
      "painting: 87.556 ms\n",
      "total: 12332.992 ms\n",
      "profile_1.json\n",
      "scripting: 2156.208 ms\n",
      "rendering: 130.447 ms\n",
      "painting: 75.478 ms\n",
      "total: 12301.888 ms\n",
      "profile_2.json\n",
      "scripting: 2433.834 ms\n",
      "rendering: 148.808 ms\n",
      "painting: 72.815 ms\n",
      "total: 13473.818 ms\n",
      "profile_3.json\n",
      "scripting: 2073.487 ms\n",
      "rendering: 137.137 ms\n",
      "painting: 70.556 ms\n",
      "total: 12282.21 ms\n",
      "profile_4.json\n",
      "scripting: 2116.449 ms\n",
      "rendering: 129.085 ms\n",
      "painting: 80.308 ms\n",
      "total: 12473.583 ms\n"
     ]
    }
   ],
   "source": [
    "for file in jsons:\n",
    "    with open(file,'r') as f:\n",
    "        jfile = json.load(f)\n",
    "        print(file)\n",
    "\n",
    "        scripting = 0\n",
    "        rendering = 0\n",
    "        painting = 0\n",
    "        total = 0\n",
    "        # loading = 0\n",
    "        # system = 0\n",
    "        # idle = 0\n",
    "        \n",
    "        for dictionary in jfile['traceEvents']:\n",
    "            total += dictionary.get('tdur',0)\n",
    "            \n",
    "            if dictionary.get('name',\" \") in [\n",
    "              \"EventDispatch\",\n",
    "              \"TimerInstall\",\n",
    "              \"TimerRemove\",\n",
    "              \"TimerFire\",\n",
    "              \"XHRReadyStateChange\",\n",
    "              \"XHRLoad\",\n",
    "              \"CompileScript\",\n",
    "              \"EvaluateScript\",\n",
    "            \"CompileModule\",\n",
    "            \"EvaluateModule\",\n",
    "            \"StreamingCompileScriptParsing;\",\n",
    "            \"WasmStreamFromResponseCallback\",\n",
    "            \"WasmCompiledModule\",\n",
    "            \"WasmCachedModule\",\n",
    "            \"WasmModuleCacheHit\",\n",
    "            \"WasmModuleCacheInvalid\",\n",
    "            \"MarkLoad\",\n",
    "            \"MarkDOMContent\",\n",
    "            \"TimeStamp\",\n",
    "            \"ConsoleTime\",\n",
    "            \"UserTiming\",\n",
    "            \"RunMicrotasks\",\n",
    "            \"FunctionCall\",\n",
    "            \"GCEvent\",\n",
    "            \"MajorGC\",\n",
    "            \"MinorGC\",\n",
    "            \"JSFrame\",\n",
    "            \"RequestAnimationFrame\",\n",
    "            \"CancelAnimationFrame\",\n",
    "            \"FireAnimationFrame\",\n",
    "            \"RequestIdleCallback\",\n",
    "            \"CancelIdleCallback\",\n",
    "            \"FireIdleCallback\",\n",
    "            \"WebSocketCreate\",\n",
    "            \"WebSocketSendHandshakeRequest\",\n",
    "            \"WebSocketReceiveHandshakeResponse\",\n",
    "            \"WebSocketDestroy\",\n",
    "            \"EmbedderCallback\",\n",
    "            \"LatencyInfo\",\n",
    "            \"GCCollectGarbage\",\n",
    "            \"CryptoDoEncrypt\",\n",
    "            \"CryptoDoEncryptReply\",\n",
    "            \"CryptoDoDecrypt\",\n",
    "            \"CryptoDoDecryptReply\",\n",
    "            \"CryptoDoDigest\",\n",
    "            \"CryptoDoDigestReply\",\n",
    "            \"CryptoDoSign\",\n",
    "            \"CryptoDoSignReply\",\n",
    "            \"CryptoDoVerify\",\n",
    "            \"CryptoDoVerifyReply\"\n",
    "            ]:\n",
    "\n",
    "                scripting += dictionary.get('tdur',0)\n",
    "                \n",
    "            if dictionary.get('name',\" \") in [\n",
    "              \"Animation\",\n",
    "                \"RequestMainThreadFrame\",\n",
    "                \"BeginFrame\",\n",
    "                \"BeginMainThreadFrame\",\n",
    "                \"DrawFrame\",\n",
    "                \"HitTest\",\n",
    "                \"ScheduleStyleRecalculation\",\n",
    "                \"RecalculateStyles\",\n",
    "                \"UpdateLayoutTree\",\n",
    "                \"InvalidateLayout\",\n",
    "                \"Layout\",\n",
    "                \"UpdateLayerTree\",\n",
    "                \"ScrollLayer\",\n",
    "                \"MarkFCP\",\n",
    "                \"MarkFMP\",\n",
    "                \"MarkLCPCandidate\"  \n",
    "            ]:\n",
    "        #         print(dictionary.get('name',\"  \"),',', dictionary.get('ts',\"  \") if dictionary.get('tdur',\"  \") == \"  \" else dictionary.get('tdur',\"  \"))\n",
    "                rendering += dictionary.get('tdur',0)\n",
    "\n",
    "            if dictionary.get('name',\" \") in [\n",
    "                \"PaintSetup\",\n",
    "                \"PaintImage\",\n",
    "                \"UpdateLayer\",\n",
    "                \"Paint\",\n",
    "                \"RasterTask\",\n",
    "                \"CompositeLayers\",\n",
    "                \"MarkFirstPaint\",\n",
    "                \"DecodeImage\",\n",
    "                \"ResizeImage\"\n",
    "            ]:\n",
    "                painting += dictionary.get('tdur',0)\n",
    "\n",
    "\n",
    "        print(f\"scripting: {scripting/1000} ms\")\n",
    "        print(f\"rendering: {rendering/1000} ms\")\n",
    "        print(f\"painting: {painting/1000} ms\")\n",
    "        print(f\"total: {total/1000} ms\")\n",
    "\n"
   ]
  },
  {
   "cell_type": "code",
   "execution_count": null,
   "metadata": {},
   "outputs": [],
   "source": []
  }
 ],
 "metadata": {
  "kernelspec": {
   "display_name": "Python 3",
   "language": "python",
   "name": "python3"
  },
  "language_info": {
   "codemirror_mode": {
    "name": "ipython",
    "version": 3
   },
   "file_extension": ".py",
   "mimetype": "text/x-python",
   "name": "python",
   "nbconvert_exporter": "python",
   "pygments_lexer": "ipython3",
   "version": "3.7.6"
  },
  "toc": {
   "base_numbering": 1,
   "nav_menu": {},
   "number_sections": true,
   "sideBar": true,
   "skip_h1_title": false,
   "title_cell": "Table of Contents",
   "title_sidebar": "Contents",
   "toc_cell": true,
   "toc_position": {},
   "toc_section_display": true,
   "toc_window_display": true
  }
 },
 "nbformat": 4,
 "nbformat_minor": 4
}
